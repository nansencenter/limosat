{
 "cells": [
  {
   "cell_type": "markdown",
   "metadata": {},
   "source": [
    "## Imports and functions"
   ]
  },
  {
   "cell_type": "code",
   "execution_count": 2,
   "metadata": {},
   "outputs": [],
   "source": [
    "import os\n",
    "import geopandas as gpd\n",
    "import sys\n",
    "import numpy as np\n",
    "import cv2\n",
    "import pandas as pd\n",
    "import xarray as xr\n",
    "sys.path.insert(0, os.path.abspath('..'))\n",
    "from limosat import Keypoints, Matcher, ImageProcessor\n",
    "from limosat.catalog import create_image_gdf\n",
    "%matplotlib inline"
   ]
  },
  {
   "cell_type": "markdown",
   "metadata": {},
   "source": [
    "## Loading data"
   ]
  },
  {
   "cell_type": "code",
   "execution_count": null,
   "metadata": {},
   "outputs": [],
   "source": [
    "# Define paths\n",
    "IMAGE_DIR = \"/path/to/images\"\n",
    "METADATA_PATH = \"/path/to/catalog.geojson\"\n",
    "\n",
    "# Check if the metadata file already exists\n",
    "if os.path.exists(METADATA_PATH):\n",
    "    # Load existing file\n",
    "    print(f\"Loading existing image metadata from {METADATA_PATH}\")\n",
    "    images_gdf = gpd.read_file(METADATA_PATH)\n",
    "    # Ensure timestamp is in datetime format\n",
    "    if 'timestamp' in images_gdf.columns:\n",
    "        images_gdf['timestamp'] = pd.to_datetime(images_gdf['timestamp'])\n",
    "    print(f\"Loaded {len(images_gdf)} image records\")\n",
    "else:\n",
    "    # Create new metadata\n",
    "    print(f\"Creating new image metadata for directory: {IMAGE_DIR}\")\n",
    "    images_gdf = create_image_gdf(\n",
    "        IMAGE_DIR, \n",
    "        max_workers=8\n",
    "    )\n",
    "    \n",
    "    # Save the metadata\n",
    "    os.makedirs(os.path.dirname(METADATA_PATH), exist_ok=True)\n",
    "    images_gdf.to_file(METADATA_PATH, driver='GeoJSON')\n",
    "    print(f\"Saved {len(images_gdf)} image records to {METADATA_PATH}\")"
   ]
  },
  {
   "cell_type": "code",
   "execution_count": null,
   "metadata": {},
   "outputs": [],
   "source": [
    "run_name = \"limosat_drift\"\n",
    "\n",
    "points = Keypoints()  # Reinitialize the Keypoints object\n",
    "templates = xr.DataArray(\n",
    "    dims=(\"trajectory_id\", \"height\", \"width\"),\n",
    "    coords={\"trajectory_id\": range(0), \"height\": np.arange(33), \"width\": np.arange(33)},  # Adjust size as needed\n",
    ")"
   ]
  },
  {
   "cell_type": "markdown",
   "metadata": {},
   "source": [
    "## Workflow"
   ]
  },
  {
   "cell_type": "code",
   "execution_count": null,
   "metadata": {},
   "outputs": [],
   "source": [
    "# First create the processor with all configuration\n",
    "processor = ImageProcessor(\n",
    "    points=points,\n",
    "    templates=templates,\n",
    "    \n",
    "    model=cv2.ORB_create(\n",
    "        nfeatures=100,        \n",
    "        scaleFactor=1.2,        \n",
    "        nlevels=4,              \n",
    "        edgeThreshold=15,     \n",
    "        firstLevel=0,\n",
    "        patchSize=31           \n",
    "    ),\n",
    "    \n",
    "    matcher = Matcher(),\n",
    "    min_correlation=0.35,\n",
    "    use_interpolation=True,\n",
    "    run_name=run_name,\n",
    ")"
   ]
  },
  {
   "cell_type": "code",
   "execution_count": null,
   "metadata": {},
   "outputs": [],
   "source": [
    "for image_id, filename in enumerate(images_gdf['filename'], start = 1):\n",
    "    processor.process_image(image_id, filename)"
   ]
  },
  {
   "cell_type": "markdown",
   "metadata": {},
   "source": [
    "## Plotting"
   ]
  },
  {
   "cell_type": "code",
   "execution_count": null,
   "metadata": {},
   "outputs": [],
   "source": [
    "# Randomly sample 20% of points\n",
    "random_sample = processor.points.sample(frac=0.1)\n",
    "trajectory_counts = processor.points['trajectory_id'].value_counts()\n",
    "random_sample['traj_count'] = random_sample['trajectory_id'].map(trajectory_counts)\n",
    "random_sample['time'] = pd.to_datetime(random_sample['time'], utc=True).dt.tz_convert('UTC')\n",
    "# Plot the sampled points\n",
    "random_sample.plot(column='traj_count', figsize=(10, 10))"
   ]
  }
 ],
 "metadata": {
  "kernelspec": {
   "display_name": "arktalasicedrift",
   "language": "python",
   "name": "python3"
  },
  "language_info": {
   "codemirror_mode": {
    "name": "ipython",
    "version": 3
   },
   "file_extension": ".py",
   "mimetype": "text/x-python",
   "name": "python",
   "nbconvert_exporter": "python",
   "pygments_lexer": "ipython3",
   "version": "3.11.3"
  }
 },
 "nbformat": 4,
 "nbformat_minor": 2
}
